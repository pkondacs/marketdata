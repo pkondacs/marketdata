{
 "cells": [
  {
   "cell_type": "markdown",
   "metadata": {
    "application/vnd.databricks.v1+cell": {
     "cellMetadata": {},
     "inputWidgets": {},
     "nuid": "2fc7b882-9c03-4e98-97e0-ea0b90aa8afe",
     "showTitle": false,
     "title": ""
    }
   },
   "source": [
    "# Install some necessary packages"
   ]
  },
  {
   "cell_type": "code",
   "execution_count": 0,
   "metadata": {
    "application/vnd.databricks.v1+cell": {
     "cellMetadata": {
      "byteLimit": 2048000,
      "rowLimit": 10000
     },
     "inputWidgets": {},
     "nuid": "7e604aa1-d4bc-472e-8ab3-182992508b77",
     "showTitle": false,
     "title": ""
    }
   },
   "outputs": [],
   "source": [
    "# activates the matplotlib to be displayed inline\n",
    "%matplotlib inline \n",
    "%pip install pandas-datareader\n",
    "%pip install quandl\n",
    "%pip install python-dotenv\n",
    "%pip install yfinance"
   ]
  },
  {
   "cell_type": "markdown",
   "metadata": {
    "application/vnd.databricks.v1+cell": {
     "cellMetadata": {},
     "inputWidgets": {},
     "nuid": "b4106cf1-be5b-4fc7-ba16-8af80cc010a9",
     "showTitle": false,
     "title": ""
    }
   },
   "source": [
    "# Study of Stock Portfolio"
   ]
  },
  {
   "cell_type": "code",
   "execution_count": 0,
   "metadata": {
    "application/vnd.databricks.v1+cell": {
     "cellMetadata": {
      "byteLimit": 2048000,
      "rowLimit": 10000
     },
     "inputWidgets": {},
     "nuid": "fcab7574-8fba-423d-af4e-5dd198376c49",
     "showTitle": false,
     "title": ""
    }
   },
   "outputs": [],
   "source": [
    "import os\n",
    "import random \n",
    "import pandas_datareader.data as web\n",
    "import pandas as pd\n",
    "import datetime\n",
    "import numpy as np\n",
    "from ipywidgets import interact, fixed, IntSlider\n",
    "\n",
    "import matplotlib.pyplot as plt\n",
    "from numpy.linalg import cholesky\n",
    "import seaborn as sns\n",
    "import quandl # import quandl package\n",
    "quandl.ApiConfig.api_key = \"FX-yxABrQh8R4VCJu8_q\" # register at quandl.com and get the API key to feed data\n",
    "mydata = quandl.get(\"FRED/GDP\")\n",
    "\n",
    "from dotenv import load_dotenv\n",
    "load_dotenv()\n",
    "# magics for import statements\n",
    "# %load_ext dotenv \n",
    "# %dotenv\n",
    "\n",
    "# cache data for this period\n",
    "all_data_start, all_data_end = \"2016-01-01\", \"2020-07-01\"\n",
    "\n",
    "# by default work with data in this period\n",
    "default_start, default_end = \"2017-01-01\", \"2019-07-01\"\n"
   ]
  },
  {
   "cell_type": "markdown",
   "metadata": {
    "application/vnd.databricks.v1+cell": {
     "cellMetadata": {},
     "inputWidgets": {},
     "nuid": "4d716fb6-a80c-447d-a4d6-6121b794c559",
     "showTitle": false,
     "title": ""
    }
   },
   "source": [
    "##Using the yfinance package"
   ]
  },
  {
   "cell_type": "code",
   "execution_count": 0,
   "metadata": {
    "application/vnd.databricks.v1+cell": {
     "cellMetadata": {
      "byteLimit": 2048000,
      "rowLimit": 10000
     },
     "inputWidgets": {},
     "nuid": "801f3482-ab35-4997-9975-949d3a3e518c",
     "showTitle": false,
     "title": ""
    }
   },
   "outputs": [],
   "source": [
    "import yfinance as yf\n",
    "\n",
    "# Fetch stock price data for Apple and Microsoft\n",
    "aapl = yf.download(\"AAPL\")\n",
    "msft = yf.download(\"MSFT\")\n",
    "# Concatenate Apple and Microsoft stock price dataframes\n",
    "combined_df = pd.concat([aapl, msft], axis=1)\n",
    "combined_df.head()"
   ]
  },
  {
   "cell_type": "code",
   "execution_count": 0,
   "metadata": {
    "application/vnd.databricks.v1+cell": {
     "cellMetadata": {
      "byteLimit": 2048000,
      "rowLimit": 10000
     },
     "inputWidgets": {},
     "nuid": "53b32565-1d6c-4f9d-a72c-8d31085e37c2",
     "showTitle": false,
     "title": ""
    }
   },
   "outputs": [],
   "source": [
    "import matplotlib.pyplot as plt\n",
    "\n",
    "# Plot the combined stock price data\n",
    "combined_df['Close'].plot(figsize=(10, 6))\n",
    "\n",
    "# Set the chart title and labels\n",
    "plt.title('Stock Price Comparison')\n",
    "plt.xlabel('Date')\n",
    "plt.ylabel('Closing Price')\n",
    "\n",
    "# Display the chart\n",
    "plt.show()"
   ]
  },
  {
   "cell_type": "code",
   "execution_count": 0,
   "metadata": {
    "application/vnd.databricks.v1+cell": {
     "cellMetadata": {
      "byteLimit": 2048000,
      "rowLimit": 10000
     },
     "inputWidgets": {},
     "nuid": "0273b486-28b9-4b39-8fa2-779660fa52f6",
     "showTitle": false,
     "title": ""
    }
   },
   "outputs": [],
   "source": [
    "aapl.Close.plot()"
   ]
  },
  {
   "cell_type": "code",
   "execution_count": 0,
   "metadata": {
    "application/vnd.databricks.v1+cell": {
     "cellMetadata": {
      "byteLimit": 2048000,
      "rowLimit": 10000
     },
     "inputWidgets": {},
     "nuid": "4895413e-29c9-462e-82e5-39f16c9f883d",
     "showTitle": false,
     "title": ""
    }
   },
   "outputs": [],
   "source": [
    "\n"
   ]
  },
  {
   "cell_type": "markdown",
   "metadata": {
    "application/vnd.databricks.v1+cell": {
     "cellMetadata": {},
     "inputWidgets": {},
     "nuid": "f098a7ff-1ca7-4038-8be3-ed57b4bf2b0c",
     "showTitle": false,
     "title": ""
    }
   },
   "source": [
    "## Get stock data"
   ]
  },
  {
   "cell_type": "code",
   "execution_count": 0,
   "metadata": {
    "application/vnd.databricks.v1+cell": {
     "cellMetadata": {
      "byteLimit": 2048000,
      "rowLimit": 10000
     },
     "inputWidgets": {},
     "nuid": "644ac024-5f4b-4b40-bcd5-f5f3bf396a3b",
     "showTitle": false,
     "title": ""
    }
   },
   "outputs": [],
   "source": [
    "# pandas datareader\n",
    "aapl = web.DataReader(\"AAPL.US\",\"quandl\",\"2015-01-01\", \"2023-12-31\", api_key = \"FX-yxABrQh8R4VCJu8_q\")\n",
    "aapl.head()"
   ]
  },
  {
   "cell_type": "code",
   "execution_count": 0,
   "metadata": {
    "application/vnd.databricks.v1+cell": {
     "cellMetadata": {
      "byteLimit": 2048000,
      "rowLimit": 10000
     },
     "inputWidgets": {},
     "nuid": "58ba28e1-8fef-4f2a-a177-72bd3c91f52b",
     "showTitle": false,
     "title": ""
    }
   },
   "outputs": [],
   "source": [
    "aapl.Close.plot()"
   ]
  },
  {
   "cell_type": "code",
   "execution_count": 0,
   "metadata": {
    "application/vnd.databricks.v1+cell": {
     "cellMetadata": {
      "byteLimit": 2048000,
      "rowLimit": 10000
     },
     "inputWidgets": {},
     "nuid": "10da92e5-acd6-4c7d-8741-5f81321f976d",
     "showTitle": false,
     "title": ""
    }
   },
   "outputs": [],
   "source": [
    "visa = web.DataReader(\"V.US\",\"quandl\",\"2015-01-01\", \"2016-01-01\", api_key = \"FX-yxABrQh8R4VCJu8_q\")\n",
    "visa.Close.plot()\n",
    "# to adjust for the stock split\n",
    "visa.AdjClose.plot()"
   ]
  },
  {
   "cell_type": "markdown",
   "metadata": {
    "application/vnd.databricks.v1+cell": {
     "cellMetadata": {
      "byteLimit": 2048000,
      "rowLimit": 10000
     },
     "inputWidgets": {},
     "nuid": "8fa4d324-b42d-4c71-9ae4-0820a9524aab",
     "showTitle": false,
     "title": ""
    }
   },
   "source": [
    "## Utility: get adjusted close, cache recent years"
   ]
  },
  {
   "cell_type": "code",
   "execution_count": 0,
   "metadata": {
    "application/vnd.databricks.v1+cell": {
     "cellMetadata": {
      "byteLimit": 2048000,
      "rowLimit": 10000
     },
     "inputWidgets": {},
     "nuid": "9076bee5-7332-4c9f-b230-0f7db10ea09e",
     "showTitle": false,
     "title": ""
    }
   },
   "outputs": [],
   "source": [
    "cached_data = {}\n",
    "#def stock_hist (symbol, start=None, end=None): \n",
    "#    \"\"\"Convenience function to get cached data\"\"\"\n",
    "#    start = start if start else default_start\n",
    "#    end = end if end else default_end\n",
    "#    if not symbol in cached_data:\n",
    "#        cached_data[symbol] = web.DataReader(symbol + \".US\", \"quandl\", all_data_start, all_data_end, api_key = \"FX-yxABrQh8R4VCJu8_q\")\n",
    "#        print(f\"Loaded {symbol} num values = {len(cached_data[symbol])}\")\n",
    "#    return cached_data[symbol][start:end]\n",
    "def stock_hist (symbol, start=None, end=None):\n",
    "    start = start if start else default_start\n",
    "    end = end if end else default_end\n",
    "    cached_data[symbol] = web.DataReader(symbol + \".US\", \"quandl\", start, end , api_key = \"FX-yxABrQh8R4VCJu8_q\")['AdjClose']\n",
    "    return cached_data[symbol]"
   ]
  },
  {
   "cell_type": "code",
   "execution_count": 0,
   "metadata": {
    "application/vnd.databricks.v1+cell": {
     "cellMetadata": {
      "byteLimit": 2048000,
      "rowLimit": 10000
     },
     "inputWidgets": {},
     "nuid": "68008424-c9c9-4347-acba-b11a49d40f71",
     "showTitle": false,
     "title": ""
    }
   },
   "outputs": [],
   "source": [
    "start_dt = \"2016-01-01\"\n",
    "end_dt = \"2016-01-10\"\n",
    "web.DataReader(\"AAPL.US\", \"quandl\", start = start_dt, end = end_dt , api_key = \"FX-yxABrQh8R4VCJu8_q\")['AdjClose']\n",
    "# result for one stock\n",
    "stock_hist(\"AAPL\").head()\n"
   ]
  },
  {
   "cell_type": "markdown",
   "metadata": {
    "application/vnd.databricks.v1+cell": {
     "cellMetadata": {
      "byteLimit": 2048000,
      "rowLimit": 10000
     },
     "inputWidgets": {},
     "nuid": "af71ede9-7aec-4b21-9324-afcc7b52e9f0",
     "showTitle": false,
     "title": ""
    }
   },
   "source": [
    "## Look at a basket of stocks"
   ]
  },
  {
   "cell_type": "code",
   "execution_count": 0,
   "metadata": {
    "application/vnd.databricks.v1+cell": {
     "cellMetadata": {
      "byteLimit": 2048000,
      "rowLimit": 10000
     },
     "inputWidgets": {},
     "nuid": "6e5c02e6-0aa3-414e-b5f2-0f1a8a3d069b",
     "showTitle": false,
     "title": ""
    }
   },
   "outputs": [],
   "source": [
    "tickers_list = ['AAPL','FB','GOOG']\n",
    "N = len(tickers_list)\n",
    "historical = pd.concat((stock_hist(symbol) for symbol in tickers_list), axis = 1, keys = tickers_list)\n",
    "_=historical.plot() # underscore can be used if don't want to assign the value to anything specific\n",
    "historical.head()"
   ]
  },
  {
   "cell_type": "code",
   "execution_count": 0,
   "metadata": {
    "application/vnd.databricks.v1+cell": {
     "cellMetadata": {
      "byteLimit": 2048000,
      "rowLimit": 10000
     },
     "inputWidgets": {},
     "nuid": "5120aa0e-8792-410a-8fd8-1a6c9cb702fc",
     "showTitle": false,
     "title": ""
    }
   },
   "outputs": [],
   "source": [
    "# relative change in prices, price at t divided by the first price row\n",
    "returns_na = (historical/historical.iloc[0]) #.fillna(method='backfill')\n",
    "returns = (historical/historical.iloc[0]).fillna(method='backfill') \n",
    "_=returns_na.plot()"
   ]
  },
  {
   "cell_type": "markdown",
   "metadata": {
    "application/vnd.databricks.v1+cell": {
     "cellMetadata": {
      "byteLimit": 2048000,
      "rowLimit": 10000
     },
     "inputWidgets": {},
     "nuid": "e0b8ceae-c488-488b-9689-940a3878b4f0",
     "showTitle": false,
     "title": ""
    }
   },
   "source": [
    "## Create an equally weighted portfolio"
   ]
  },
  {
   "cell_type": "code",
   "execution_count": 0,
   "metadata": {
    "application/vnd.databricks.v1+cell": {
     "cellMetadata": {
      "byteLimit": 2048000,
      "rowLimit": 10000
     },
     "inputWidgets": {},
     "nuid": "7baa1020-bd16-497b-924f-bc855dc3b39c",
     "showTitle": false,
     "title": ""
    }
   },
   "outputs": [],
   "source": [
    "# the glitch is caused by missing values, can be avoided by including the fillna method in the previous step\n",
    "returns_na['PORTFOLIO'] = returns_na.iloc[:,0:N].sum(axis=1) / N\n",
    "# iloc below: it can be omitted. It slices all rows (as defined by the row index in iloc \":\"), and 0:N columns, which is basically all columns\n",
    "# axis = 1 means sum along the columns, N was defined above as the length of ticker list\n",
    "returns['PORTFOLIO'] = returns.iloc[:,0:N].sum(axis=1) / N\n",
    "returns_na.plot()"
   ]
  },
  {
   "cell_type": "code",
   "execution_count": 0,
   "metadata": {
    "application/vnd.databricks.v1+cell": {
     "cellMetadata": {
      "byteLimit": 2048000,
      "rowLimit": 10000
     },
     "inputWidgets": {},
     "nuid": "6fdec2f1-af00-4a66-b117-f7de89c684ca",
     "showTitle": false,
     "title": ""
    }
   },
   "outputs": [],
   "source": [
    "symbols = ['AAPL','TSLA','FB','IBM','GOOG']\n",
    "prices = [stock_hist(symbol) for symbol in symbols]\n",
    "unit_pos = [p / p[-5] for p in prices]\n",
    "df = pd.DataFrame(unit_pos)\n",
    "\n",
    "basket = sum(u for u in unit_pos) / len(unit_pos)\n",
    "df = pd.DataFrame(basket)\n",
    "df"
   ]
  },
  {
   "cell_type": "code",
   "execution_count": 0,
   "metadata": {
    "application/vnd.databricks.v1+cell": {
     "cellMetadata": {
      "byteLimit": 2048000,
      "rowLimit": 10000
     },
     "inputWidgets": {},
     "nuid": "c24f13c3-f70d-4d5d-b610-63053ba77a2c",
     "showTitle": false,
     "title": ""
    }
   },
   "outputs": [],
   "source": [
    "# **active is a **kwargs\n",
    "# **kwargs allows you to pass keyworded variable length of arguments to a function.\n",
    "def diversicheck(symbols, start_day=0, **active):\n",
    "    # The strptime() method creates a datetime object from the given string.\n",
    "    start = datetime.datetime.strptime(default_start, \"%Y-%m-%d\") + datetime.timedelta(start_day)\n",
    "    end = start + datetime.timedelta(days=365)\n",
    "    # filtered is a kind of check if symbol is valid\n",
    "    filtered = [symbol for symbol in symbols if active.get(symbol, True)]\n",
    "    prices = [stock_hist(symbol) for symbol in filtered]\n",
    "    unit_pos = [p / p[-1-start_day] for p in prices]\n",
    "    basket = sum(u for u in unit_pos) / len(unit_pos)\n",
    "    for p in unit_pos:\n",
    "        p.plot(color='b', alpha=0.3)\n",
    "    basket.plot(figsize=(20,10))\n",
    "    print(f\"Basket from {start} to {end}\")"
   ]
  },
  {
   "cell_type": "code",
   "execution_count": 0,
   "metadata": {
    "application/vnd.databricks.v1+cell": {
     "cellMetadata": {
      "byteLimit": 2048000,
      "rowLimit": 10000
     },
     "inputWidgets": {},
     "nuid": "c219f7df-ee27-4379-951c-831137865011",
     "showTitle": false,
     "title": ""
    }
   },
   "outputs": [],
   "source": [
    "# Notes: \n",
    "# To use interact, you need to define a function that you want to explore. Hence diversicheck is created in the step before.\n",
    "# fixed() is used within interact which fixes arguments to specific non-modifiable values.\n",
    "\n",
    "prf_stocks = ['AAPL','TSLA','FB','IBM','GOOG']\n",
    "active = dict(zip(prf_stocks,[True]*len(prf_stocks)))\n",
    "_= interact(diversicheck, \n",
    "    symbols= fixed(prf_stocks),\n",
    "    start_day = IntSlider(min=0,max=365, step=1,\n",
    "                    description='Start date:',\n",
    "                    disabled=False,\n",
    "                    continuous_update=True,\n",
    "                    orientation='horizontal',\n",
    "                    readout=True,\n",
    "                    readout_format='d'))"
   ]
  },
  {
   "cell_type": "markdown",
   "metadata": {
    "application/vnd.databricks.v1+cell": {
     "cellMetadata": {
      "byteLimit": 2048000,
      "rowLimit": 10000
     },
     "inputWidgets": {},
     "nuid": "a22585cb-d4e2-4fef-a7b1-49657a677e5d",
     "showTitle": false,
     "title": ""
    }
   },
   "source": [
    "## Simulate forwards"
   ]
  },
  {
   "cell_type": "code",
   "execution_count": 0,
   "metadata": {
    "application/vnd.databricks.v1+cell": {
     "cellMetadata": {
      "byteLimit": 2048000,
      "rowLimit": 10000
     },
     "inputWidgets": {},
     "nuid": "2f658ab3-b2e7-438c-aee6-d5aa21864380",
     "showTitle": false,
     "title": ""
    }
   },
   "outputs": [],
   "source": [
    "prf_prices = pd.concat((stock_hist(symbol) for symbol in prf_stocks), axis = 1, keys = prf_stocks)\n",
    "prf_returns = (prf_prices.pct_change() + 1)[1:]\n",
    "log_returns = np.log(prf_returns)\n",
    "corr = log_returns.corr()\n",
    "sns.heatmap(corr, annot=True)"
   ]
  },
  {
   "cell_type": "code",
   "execution_count": 0,
   "metadata": {
    "application/vnd.databricks.v1+cell": {
     "cellMetadata": {
      "byteLimit": 2048000,
      "rowLimit": 10000
     },
     "inputWidgets": {},
     "nuid": "162ca07e-1397-45be-97d5-1643b74a510c",
     "showTitle": false,
     "title": ""
    }
   },
   "outputs": [],
   "source": [
    "vols = log_returns.std() * np.sqrt(252)\n",
    "avg_returns = (prf_returns-1).mean()\n",
    "fig, ax = plt.subplots()\n",
    "ax.scatter(vols, avg_returns)\n",
    "for i, txt in enumerate(prf_stocks):\n",
    "    ax.annotate(txt, (vols[i],avg_returns[i]))"
   ]
  },
  {
   "cell_type": "markdown",
   "metadata": {
    "application/vnd.databricks.v1+cell": {
     "cellMetadata": {
      "byteLimit": 2048000,
      "rowLimit": 10000
     },
     "inputWidgets": {},
     "nuid": "d5baa503-9336-4e9c-9c36-1ed129089ab2",
     "showTitle": false,
     "title": ""
    }
   },
   "source": [
    "## Bootstrap (Monte-carlo simulation)"
   ]
  },
  {
   "cell_type": "code",
   "execution_count": 0,
   "metadata": {
    "application/vnd.databricks.v1+cell": {
     "cellMetadata": {
      "byteLimit": 2048000,
      "rowLimit": 10000
     },
     "inputWidgets": {},
     "nuid": "b6f4c9c2-8dbb-471c-a6ba-e07e622a81d8",
     "showTitle": false,
     "title": ""
    }
   },
   "outputs": [],
   "source": [
    "# k=60 Returns a list with 60 items, ie. 60 samples are taken 1000 times (60,000 samples in total)\n",
    "simulated = pd.DataFrame([((prf_returns.iloc[random.choices(\n",
    "    range(len(prf_returns)),k=60)]).mean(axis=1)).cumprod().values\n",
    "    for x in range(1000)]).T\n",
    "simulated.head()"
   ]
  },
  {
   "cell_type": "code",
   "execution_count": 0,
   "metadata": {
    "application/vnd.databricks.v1+cell": {
     "cellMetadata": {
      "byteLimit": 2048000,
      "rowLimit": 10000
     },
     "inputWidgets": {},
     "nuid": "70390611-e5f5-431f-88f4-677e89585246",
     "showTitle": false,
     "title": ""
    }
   },
   "outputs": [],
   "source": [
    "simulated.plot(legend=False, linewidth=1, alpha=0.1, color=\"blue\")"
   ]
  },
  {
   "cell_type": "code",
   "execution_count": 0,
   "metadata": {
    "application/vnd.databricks.v1+cell": {
     "cellMetadata": {
      "byteLimit": 2048000,
      "rowLimit": 10000
     },
     "inputWidgets": {},
     "nuid": "32e8b685-53fd-49af-8416-853a8ea62278",
     "showTitle": false,
     "title": ""
    }
   },
   "outputs": [],
   "source": [
    "simulated.quantile([0.05,0.5,0.95], axis=1).T.plot()"
   ]
  }
 ],
 "metadata": {
  "application/vnd.databricks.v1+notebook": {
   "dashboards": [],
   "language": "python",
   "notebookMetadata": {
    "pythonIndentUnit": 4
   },
   "notebookName": "Study of a Stock Portfolio",
   "widgets": {}
  },
  "kernelspec": {
   "display_name": "Python 3",
   "language": "python",
   "name": "python3"
  },
  "language_info": {
   "codemirror_mode": {
    "name": "ipython",
    "version": 3
   },
   "file_extension": ".py",
   "mimetype": "text/x-python",
   "name": "python",
   "nbconvert_exporter": "python",
   "pygments_lexer": "ipython3",
   "version": "3.7.1"
  }
 },
 "nbformat": 4,
 "nbformat_minor": 0
}
