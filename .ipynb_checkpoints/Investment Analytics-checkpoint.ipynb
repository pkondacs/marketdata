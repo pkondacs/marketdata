{
 "cells": [
  {
   "cell_type": "code",
   "execution_count": 3,
   "metadata": {},
   "outputs": [
    {
     "data": {
      "text/plain": [
       "Date\n",
       "2018-03-27    168.340\n",
       "2018-03-26    172.770\n",
       "2018-03-23    164.940\n",
       "2018-03-22    168.845\n",
       "2018-03-21    171.270\n",
       "Name: AdjClose, dtype: float64"
      ]
     },
     "execution_count": 3,
     "metadata": {},
     "output_type": "execute_result"
    }
   ],
   "source": [
    "# activates the matplotlib to be displayed inline\n",
    "%matplotlib inline \n",
    "\n",
    "import os\n",
    "import random \n",
    "import pandas_datareader.data as web\n",
    "import pandas as pd\n",
    "import datetime\n",
    "import numpy as np\n",
    "from ipywidgets import *\n",
    "from ipywidgets import interact, fixed, IntSlider, Checkbox\n",
    "\n",
    "import matplotlib.pyplot as plt\n",
    "from numpy.linalg import cholesky\n",
    "import seaborn as sns\n",
    "import quandl # import quandl package\n",
    "quandl.ApiConfig.api_key = \"FX-yxABrQh8R4VCJu8_q\" # register at quandl.com and get the API key to feed data\n",
    "mydata = quandl.get(\"FRED/GDP\")\n",
    "\n",
    "from dotenv import load_dotenv\n",
    "load_dotenv()\n",
    "# magics for import statements\n",
    "# %load_ext dotenv \n",
    "# %dotenv\n",
    "\n",
    "# by default work with data in this period\n",
    "default_start, default_end = \"2017-01-01\", \"2019-07-01\"\n",
    "\n",
    "# download data to create a portfolio\n",
    "aapl = web.DataReader(\"AAPL.US\",\"quandl\",\"2018-01-01\", \"2019-01-01\", api_key = \"FX-yxABrQh8R4VCJu8_q\")['AdjClose']\n",
    "aapl.head()"
   ]
  },
  {
   "cell_type": "code",
   "execution_count": 4,
   "metadata": {},
   "outputs": [
    {
     "data": {
      "text/html": [
       "<div>\n",
       "<style scoped>\n",
       "    .dataframe tbody tr th:only-of-type {\n",
       "        vertical-align: middle;\n",
       "    }\n",
       "\n",
       "    .dataframe tbody tr th {\n",
       "        vertical-align: top;\n",
       "    }\n",
       "\n",
       "    .dataframe thead th {\n",
       "        text-align: right;\n",
       "    }\n",
       "</style>\n",
       "<table border=\"1\" class=\"dataframe\">\n",
       "  <thead>\n",
       "    <tr style=\"text-align: right;\">\n",
       "      <th></th>\n",
       "      <th>AAPL</th>\n",
       "      <th>FB</th>\n",
       "      <th>GOOG</th>\n",
       "    </tr>\n",
       "    <tr>\n",
       "      <th>Date</th>\n",
       "      <th></th>\n",
       "      <th></th>\n",
       "      <th></th>\n",
       "    </tr>\n",
       "  </thead>\n",
       "  <tbody>\n",
       "    <tr>\n",
       "      <th>2015-07-13</th>\n",
       "      <td>120.342843</td>\n",
       "      <td>90.10</td>\n",
       "      <td>546.55</td>\n",
       "    </tr>\n",
       "    <tr>\n",
       "      <th>2015-07-14</th>\n",
       "      <td>120.294959</td>\n",
       "      <td>89.68</td>\n",
       "      <td>561.10</td>\n",
       "    </tr>\n",
       "    <tr>\n",
       "      <th>2015-07-15</th>\n",
       "      <td>121.453759</td>\n",
       "      <td>89.76</td>\n",
       "      <td>560.22</td>\n",
       "    </tr>\n",
       "    <tr>\n",
       "      <th>2015-07-16</th>\n",
       "      <td>123.072249</td>\n",
       "      <td>90.85</td>\n",
       "      <td>579.85</td>\n",
       "    </tr>\n",
       "    <tr>\n",
       "      <th>2015-07-17</th>\n",
       "      <td>124.135280</td>\n",
       "      <td>94.97</td>\n",
       "      <td>672.93</td>\n",
       "    </tr>\n",
       "  </tbody>\n",
       "</table>\n",
       "</div>"
      ],
      "text/plain": [
       "                  AAPL     FB    GOOG\n",
       "Date                                 \n",
       "2015-07-13  120.342843  90.10  546.55\n",
       "2015-07-14  120.294959  89.68  561.10\n",
       "2015-07-15  121.453759  89.76  560.22\n",
       "2015-07-16  123.072249  90.85  579.85\n",
       "2015-07-17  124.135280  94.97  672.93"
      ]
     },
     "execution_count": 4,
     "metadata": {},
     "output_type": "execute_result"
    },
    {
     "data": {
      "image/png": "[encoded data removed]",
      "text/plain": [
       "<Figure size 432x288 with 1 Axes>"
      ]
     },
     "metadata": {
      "needs_background": "light"
     },
     "output_type": "display_data"
    }
   ],
   "source": [
    "# Define the list of US stocks\n",
    "tickers_list = ['AAPL','FB','GOOG']\n",
    "N = len(tickers_list)\n",
    "\n",
    "# create function for the loop below\n",
    "cached_data = {}\n",
    "def stocks (symbol, start=None, end=None):\n",
    "    cached_data[symbol] = web.DataReader(symbol + \".US\", \"quandl\", start, end , api_key = \"FX-yxABrQh8R4VCJu8_q\")['AdjClose']\n",
    "    return cached_data[symbol] # need \"return\" to allow for stacking the dataframe with new stock history data\n",
    "\n",
    "# stack multiple stocks into one dataframe\n",
    "historical = pd.concat((stocks(symbol) for symbol in tickers_list), axis = 1, keys = tickers_list)\n",
    "historical.plot() # underscore can be used if don't want to assign the value to anything specific\n",
    "historical.head()\n"
   ]
  },
  {
   "cell_type": "code",
   "execution_count": 45,
   "metadata": {},
   "outputs": [
    {
     "data": {
      "application/vnd.jupyter.widget-view+json": {
       "model_id": "f63dd41ca15e412d8f8b2495a1cd8502",
       "version_major": 2,
       "version_minor": 0
      },
      "text/plain": [
       "interactive(children=(IntSlider(value=0, description='cutoff', max=0), Checkbox(value=True, description='AAPL'…"
      ]
     },
     "metadata": {},
     "output_type": "display_data"
    },
    {
     "data": {
      "text/plain": [
       "<function __main__.diversicheck(cutoff=0, **kwargs)>"
      ]
     },
     "execution_count": 45,
     "metadata": {},
     "output_type": "execute_result"
    }
   ],
   "source": [
    "tickers_list = ['AAPL','FB','GOOG']\n",
    "chk1 = [Checkbox(description=a, value=True) for a in tickers_list]\n",
    "returns_sliced = pd.DataFrame()\n",
    "\n",
    "def diversicheck(cutoff=0, **kwargs):\n",
    "    list_selected = [symbol for symbol in tickers_list if kwargs.get(symbol, True)]\n",
    "    returns = historical[historical.columns.intersection(list_selected)]\n",
    "    returns_sliced = (returns/returns.iloc[cutoff]).fillna(method='backfill')\n",
    "    return returns_sliced.iloc[cutoff:].plot()\n",
    "\n",
    "# INTERACT TO PLOT USING WIDGETS (include _= before the call will not print the out line only the chart)\n",
    "interact(diversicheck, **{c.description: c.value for c in chk1}, cutoff=(0,len(returns_sliced))) # Graphing function first, followed by the parameter to update/change"
   ]
  },
  {
   "cell_type": "code",
   "execution_count": 21,
   "metadata": {},
   "outputs": [
    {
     "data": {
      "application/vnd.jupyter.widget-view+json": {
       "model_id": "42593901f91c4924a293fddd360e638f",
       "version_major": 2,
       "version_minor": 0
      },
      "text/plain": [
       "interactive(children=(Checkbox(value=True, description='Dog'), Checkbox(value=True, description='Cat'), Checkb…"
      ]
     },
     "metadata": {},
     "output_type": "display_data"
    },
    {
     "data": {
      "text/plain": [
       "{}"
      ]
     },
     "execution_count": 21,
     "metadata": {},
     "output_type": "execute_result"
    }
   ],
   "source": [
    "# BASE EXAMPLE TO USE CHECKBOX VALUES AS INPUTS TO SELECT DATA\n",
    "\n",
    "df = pd.DataFrame({'Dog':[1,2,3],\n",
    "                   'Cat':[4,5,6],\n",
    "                   'Mouse':[7,8,9],\n",
    "                   'Camel':[1,3,5],\n",
    "                   'Lion':[5,3,6],\n",
    "                   'Elephant':[7,4,3]})\n",
    "\n",
    "from ipywidgets import Checkbox, interact\n",
    "from IPython.display import display\n",
    "\n",
    "list2 = [\"Dog\", \"Cat\", \"Mouse\"]\n",
    "chk2 = [Checkbox(description=a, value=True) for a in list2]\n",
    "\n",
    "def updateDict(**kwargs):\n",
    "    print([(k,v) for k, v in kwargs.items()])\n",
    "\n",
    "def updateList(**kwargs):\n",
    "    test = [symbol for symbol in list2 if kwargs.get(symbol, True)]\n",
    "    print(test)\n",
    "    \n",
    "def updateDf(**kwargs):\n",
    "    test = [symbol for symbol in list2 if kwargs.get(symbol, True)]\n",
    "    data = df[df.columns.intersection(test)]\n",
    "    return data\n",
    "\n",
    "interact(updateDf, **{c.description: c.value for c in chk2})\n"
   ]
  }
 ],
 "metadata": {
  "kernelspec": {
   "display_name": "Python 3",
   "language": "python",
   "name": "python3"
  },
  "language_info": {
   "codemirror_mode": {
    "name": "ipython",
    "version": 3
   },
   "file_extension": ".py",
   "mimetype": "text/x-python",
   "name": "python",
   "nbconvert_exporter": "python",
   "pygments_lexer": "ipython3",
   "version": "3.7.1"
  }
 },
 "nbformat": 4,
 "nbformat_minor": 2
}
